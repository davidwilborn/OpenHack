{
 "cells": [
  {
   "cell_type": "code",
   "execution_count": 8,
   "metadata": {},
   "outputs": [],
   "source": [
    "from glob import glob\n",
    "import numpy as np\n",
    "import os\n",
    "from PIL import Image\n",
    "data_dir = '../data'"
   ]
  },
  {
   "cell_type": "code",
   "execution_count": 9,
   "metadata": {},
   "outputs": [
    {
     "name": "stdout",
     "output_type": "stream",
     "text": [
      "['axes', 'boots', 'carabiners', 'crampons', 'gloves', 'hardshell_jackets', 'harnesses', 'helmets', 'insulated_jackets', 'pulleys', 'rope', 'tents']\n"
     ]
    }
   ],
   "source": [
    "labels = os.listdir(data_dir)\n",
    "print(labels)"
   ]
  },
  {
   "cell_type": "code",
   "execution_count": 10,
   "metadata": {},
   "outputs": [],
   "source": [
    "#configuration\n",
    "img_width, img_height = 64, 64\n",
    "batch_size=4"
   ]
  },
  {
   "cell_type": "code",
   "execution_count": 11,
   "metadata": {},
   "outputs": [],
   "source": [
    "X, y = [], []\n",
    "for label in labels:\n",
    "    files = (os.listdir(os.path.join(data_dir,label)))\n",
    "    for file in files:\n",
    "        img = Image.open(os.path.join(data_dir, label,file)).convert('RGB')\n",
    "        width, height = img.size\n",
    "        img = img.resize((img_width, img_height), Image.ANTIALIAS)\n",
    "        data = np.asarray(img)\n",
    "        X.append(data)\n",
    "        y.append(labels.index(label))"
   ]
  },
  {
   "cell_type": "code",
   "execution_count": 12,
   "metadata": {},
   "outputs": [],
   "source": [
    "import random\n",
    "c = list(zip(X, y))\n",
    "random.shuffle(c)\n",
    "X, y = zip(*c)"
   ]
  },
  {
   "cell_type": "code",
   "execution_count": 13,
   "metadata": {},
   "outputs": [
    {
     "name": "stderr",
     "output_type": "stream",
     "text": [
      "Using TensorFlow backend.\n"
     ]
    }
   ],
   "source": [
    "from keras.utils import np_utils\n",
    "y = np_utils.to_categorical(y) "
   ]
  },
  {
   "cell_type": "code",
   "execution_count": null,
   "metadata": {},
   "outputs": [],
   "source": []
  },
  {
   "cell_type": "code",
   "execution_count": null,
   "metadata": {
    "scrolled": true
   },
   "outputs": [
    {
     "name": "stderr",
     "output_type": "stream",
     "text": [
      "c:\\users\\lahulsta\\appdata\\local\\continuum\\anaconda3\\envs\\openhack\\lib\\site-packages\\ipykernel_launcher.py:37: UserWarning: The `nb_epoch` argument in `fit` has been renamed `epochs`.\n"
     ]
    },
    {
     "name": "stdout",
     "output_type": "stream",
     "text": [
      "Train on 1697 samples, validate on 425 samples\n",
      "Epoch 1/10\n",
      "1697/1697 [==============================] - 28s 17ms/step - loss: 1.4017 - acc: 0.5804 - val_loss: 0.7393 - val_acc: 0.7647\n",
      "Epoch 2/10\n",
      "1697/1697 [==============================] - 21s 12ms/step - loss: 0.5470 - acc: 0.8214 - val_loss: 0.5127 - val_acc: 0.8494\n",
      "Epoch 3/10\n",
      "1697/1697 [==============================] - 21s 12ms/step - loss: 0.3077 - acc: 0.8992 - val_loss: 0.4227 - val_acc: 0.8824\n",
      "Epoch 4/10\n",
      "1697/1697 [==============================] - 22s 13ms/step - loss: 0.2503 - acc: 0.9193 - val_loss: 0.5407 - val_acc: 0.8424\n",
      "Epoch 5/10\n",
      "1697/1697 [==============================] - 23s 13ms/step - loss: 0.1430 - acc: 0.9523 - val_loss: 0.4288 - val_acc: 0.8965\n",
      "Epoch 6/10\n",
      "1697/1697 [==============================] - 23s 13ms/step - loss: 0.1499 - acc: 0.9505 - val_loss: 0.4438 - val_acc: 0.8918\n",
      "Epoch 7/10\n",
      "1697/1697 [==============================] - 21s 12ms/step - loss: 0.1189 - acc: 0.9635 - val_loss: 0.4816 - val_acc: 0.9012\n",
      "Epoch 8/10\n",
      " 360/1697 [=====>........................] - ETA: 14s - loss: 0.0965 - acc: 0.9722"
     ]
    }
   ],
   "source": [
    "from keras import applications\n",
    "from keras.preprocessing.image import ImageDataGenerator\n",
    "from keras import optimizers\n",
    "from keras.models import Sequential\n",
    "from keras.layers import Dropout, Flatten, Dense\n",
    "from keras.models import Sequential\n",
    "from keras.layers import Dense, Dropout, Flatten\n",
    "from keras.layers import Conv2D, MaxPooling2D\n",
    "import random\n",
    "\n",
    "# dimensions of our images.\n",
    "num_classes=len(labels)\n",
    "X_train = np.array(X)\n",
    "y_train = np.array(y)\n",
    "X_train = X_train.reshape(X_train.shape[0], img_width, img_height, 3)\n",
    "input_shape = (img_width, img_height, 3)\n",
    "X_train = X_train/255\n",
    "\n",
    "model = Sequential()\n",
    "model.add(Conv2D(32, kernel_size=(3, 3),\n",
    "                 activation='relu',\n",
    "                 input_shape=input_shape))\n",
    "model.add(Conv2D(64, (3, 3), activation='relu'))\n",
    "model.add(MaxPooling2D(pool_size=(2, 2)))\n",
    "model.add(Dropout(0.25))\n",
    "model.add(Flatten())\n",
    "model.add(Dense(128, activation='relu'))\n",
    "model.add(Dropout(0.5))\n",
    "model.add(Dense(num_classes, activation='softmax'))\n",
    "\n",
    "# compile the model with a SGD/momentum optimizer\n",
    "# and a very slow learning rate.\n",
    "model.compile(loss='categorical_crossentropy',\n",
    "              optimizer='adam',\n",
    "              metrics=['accuracy'])\n",
    "\n",
    "model.fit(np.array(X_train), np.array(y_train), validation_split=0.2, nb_epoch=10, batch_size=batch_size, verbose=1)"
   ]
  },
  {
   "cell_type": "code",
   "execution_count": null,
   "metadata": {
    "scrolled": true
   },
   "outputs": [],
   "source": [
    "y_eval = model.predict(X_test)"
   ]
  },
  {
   "cell_type": "code",
   "execution_count": null,
   "metadata": {},
   "outputs": [],
   "source": []
  },
  {
   "cell_type": "code",
   "execution_count": null,
   "metadata": {},
   "outputs": [],
   "source": []
  },
  {
   "cell_type": "code",
   "execution_count": null,
   "metadata": {},
   "outputs": [],
   "source": []
  }
 ],
 "metadata": {
  "kernelspec": {
   "display_name": "Python 3",
   "language": "python",
   "name": "python3"
  },
  "language_info": {
   "codemirror_mode": {
    "name": "ipython",
    "version": 3
   },
   "file_extension": ".py",
   "mimetype": "text/x-python",
   "name": "python",
   "nbconvert_exporter": "python",
   "pygments_lexer": "ipython3",
   "version": "3.5.5"
  }
 },
 "nbformat": 4,
 "nbformat_minor": 2
}
